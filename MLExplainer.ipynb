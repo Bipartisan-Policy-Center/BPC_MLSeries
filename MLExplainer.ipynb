{
 "cells": [
  {
   "cell_type": "code",
   "execution_count": 170,
   "metadata": {},
   "outputs": [
    {
     "data": {
      "text/plain": [
       "Index(['OBJECTID', 'STATEFP', 'SLDUST', 'GEOID', 'NAMELSAD', 'LSAD', 'LSY',\n",
       "       'MTFCC', 'FUNCSTAT', 'ALAND',\n",
       "       ...\n",
       "       'DP04_0138E', 'DP04_0139E', 'DP04_0140E', 'DP04_0141E', 'DP04_0142E',\n",
       "       'DP04_0143E', 'WARD', 'GIS_ID', 'SHAPEAREA', 'SHAPELEN'],\n",
       "      dtype='object', length=161)"
      ]
     },
     "execution_count": 170,
     "metadata": {},
     "output_type": "execute_result"
    }
   ],
   "source": [
    "import pandas as pd\n",
    "import seaborn as sns\n",
    "\n",
    "dc_wards = pd.read_csv('ACS_Housing_Characteristics_DC_Ward.csv')\n",
    "dc_wards.columns"
   ]
  },
  {
   "cell_type": "markdown",
   "metadata": {},
   "source": [
    "For this example, using the following columns in order to derive as predictors:\n",
    "* number of housing units in ward - `DP04_0006E`\n",
    "* number of housing units in ward in a 20 or more unit complex - `DP04_0013E`\n",
    "* number of occupied units - `DP04_0057E`\n",
    "* number of occupied units without an available vehicle - `DP04_0058E`\n",
    "\n",
    "We will predict the percentage of renters spending more than 35% of their income on rent:\n",
    "* number of occupants paying rent - `DP04_0126E`\n",
    "* number of occupants whose rent exceeds 35% of income - `DP04_0142E`"
   ]
  },
  {
   "cell_type": "code",
   "execution_count": 171,
   "metadata": {},
   "outputs": [
    {
     "data": {
      "text/html": [
       "<div>\n",
       "<style scoped>\n",
       "    .dataframe tbody tr th:only-of-type {\n",
       "        vertical-align: middle;\n",
       "    }\n",
       "\n",
       "    .dataframe tbody tr th {\n",
       "        vertical-align: top;\n",
       "    }\n",
       "\n",
       "    .dataframe thead th {\n",
       "        text-align: right;\n",
       "    }\n",
       "</style>\n",
       "<table border=\"1\" class=\"dataframe\">\n",
       "  <thead>\n",
       "    <tr style=\"text-align: right;\">\n",
       "      <th></th>\n",
       "      <th>DP04_0006E</th>\n",
       "      <th>DP04_0013E</th>\n",
       "      <th>DP04_0057E</th>\n",
       "      <th>DP04_0058E</th>\n",
       "      <th>DP04_0126E</th>\n",
       "      <th>DP04_0142E</th>\n",
       "    </tr>\n",
       "    <tr>\n",
       "      <th>NAMELSAD</th>\n",
       "      <th></th>\n",
       "      <th></th>\n",
       "      <th></th>\n",
       "      <th></th>\n",
       "      <th></th>\n",
       "      <th></th>\n",
       "    </tr>\n",
       "  </thead>\n",
       "  <tbody>\n",
       "    <tr>\n",
       "      <th>Ward 4</th>\n",
       "      <td>33459</td>\n",
       "      <td>7210</td>\n",
       "      <td>30675</td>\n",
       "      <td>6635</td>\n",
       "      <td>12149</td>\n",
       "      <td>4328</td>\n",
       "    </tr>\n",
       "    <tr>\n",
       "      <th>Ward 3</th>\n",
       "      <td>40665</td>\n",
       "      <td>21885</td>\n",
       "      <td>37623</td>\n",
       "      <td>8457</td>\n",
       "      <td>17140</td>\n",
       "      <td>5720</td>\n",
       "    </tr>\n",
       "    <tr>\n",
       "      <th>Ward 5</th>\n",
       "      <td>38521</td>\n",
       "      <td>6980</td>\n",
       "      <td>34896</td>\n",
       "      <td>10792</td>\n",
       "      <td>18187</td>\n",
       "      <td>7104</td>\n",
       "    </tr>\n",
       "    <tr>\n",
       "      <th>Ward 1</th>\n",
       "      <td>39068</td>\n",
       "      <td>20250</td>\n",
       "      <td>35796</td>\n",
       "      <td>16378</td>\n",
       "      <td>22359</td>\n",
       "      <td>6094</td>\n",
       "    </tr>\n",
       "    <tr>\n",
       "      <th>Ward 2</th>\n",
       "      <td>42701</td>\n",
       "      <td>29486</td>\n",
       "      <td>37598</td>\n",
       "      <td>18831</td>\n",
       "      <td>23227</td>\n",
       "      <td>7296</td>\n",
       "    </tr>\n",
       "    <tr>\n",
       "      <th>Ward 7</th>\n",
       "      <td>34727</td>\n",
       "      <td>2666</td>\n",
       "      <td>30877</td>\n",
       "      <td>11848</td>\n",
       "      <td>17897</td>\n",
       "      <td>7919</td>\n",
       "    </tr>\n",
       "    <tr>\n",
       "      <th>Ward 6</th>\n",
       "      <td>51191</td>\n",
       "      <td>22852</td>\n",
       "      <td>46264</td>\n",
       "      <td>15440</td>\n",
       "      <td>27794</td>\n",
       "      <td>7648</td>\n",
       "    </tr>\n",
       "    <tr>\n",
       "      <th>Ward 8</th>\n",
       "      <td>34844</td>\n",
       "      <td>3813</td>\n",
       "      <td>30657</td>\n",
       "      <td>13620</td>\n",
       "      <td>23212</td>\n",
       "      <td>12164</td>\n",
       "    </tr>\n",
       "  </tbody>\n",
       "</table>\n",
       "</div>"
      ],
      "text/plain": [
       "          DP04_0006E  DP04_0013E  DP04_0057E  DP04_0058E  DP04_0126E  \\\n",
       "NAMELSAD                                                               \n",
       "Ward 4         33459        7210       30675        6635       12149   \n",
       "Ward 3         40665       21885       37623        8457       17140   \n",
       "Ward 5         38521        6980       34896       10792       18187   \n",
       "Ward 1         39068       20250       35796       16378       22359   \n",
       "Ward 2         42701       29486       37598       18831       23227   \n",
       "Ward 7         34727        2666       30877       11848       17897   \n",
       "Ward 6         51191       22852       46264       15440       27794   \n",
       "Ward 8         34844        3813       30657       13620       23212   \n",
       "\n",
       "          DP04_0142E  \n",
       "NAMELSAD              \n",
       "Ward 4          4328  \n",
       "Ward 3          5720  \n",
       "Ward 5          7104  \n",
       "Ward 1          6094  \n",
       "Ward 2          7296  \n",
       "Ward 7          7919  \n",
       "Ward 6          7648  \n",
       "Ward 8         12164  "
      ]
     },
     "execution_count": 171,
     "metadata": {},
     "output_type": "execute_result"
    }
   ],
   "source": [
    "dc_wards = dc_wards.loc[:,['NAMELSAD', 'DP04_0006E', 'DP04_0013E', 'DP04_0057E', 'DP04_0058E', 'DP04_0126E', 'DP04_0142E']]\n",
    "dc_wards.set_index('NAMELSAD', inplace=True)\n",
    "dc_wards.head(8)"
   ]
  },
  {
   "cell_type": "code",
   "execution_count": 172,
   "metadata": {},
   "outputs": [],
   "source": [
    "ward_pct = pd.concat([dc_wards.loc[:,'DP04_0013E'] / dc_wards.loc[:,'DP04_0006E'],\n",
    "                     dc_wards.loc[:,'DP04_0058E'] / dc_wards.loc[:,'DP04_0057E'],\n",
    "                     dc_wards.loc[:,'DP04_0142E'] / dc_wards.loc[:,'DP04_0126E']], axis='columns')\\\n",
    "                     .rename(columns={0:'Pct_20+Complex',\n",
    "                                      1:'Pct_NoVehicle',\n",
    "                                      2:'Pct_Rent35%orMore'})"
   ]
  },
  {
   "cell_type": "code",
   "execution_count": 173,
   "metadata": {},
   "outputs": [
    {
     "data": {
      "text/html": [
       "<div>\n",
       "<style scoped>\n",
       "    .dataframe tbody tr th:only-of-type {\n",
       "        vertical-align: middle;\n",
       "    }\n",
       "\n",
       "    .dataframe tbody tr th {\n",
       "        vertical-align: top;\n",
       "    }\n",
       "\n",
       "    .dataframe thead th {\n",
       "        text-align: right;\n",
       "    }\n",
       "</style>\n",
       "<table border=\"1\" class=\"dataframe\">\n",
       "  <thead>\n",
       "    <tr style=\"text-align: right;\">\n",
       "      <th></th>\n",
       "      <th>Pct_20+Complex</th>\n",
       "      <th>Pct_NoVehicle</th>\n",
       "      <th>Pct_Rent35%orMore</th>\n",
       "    </tr>\n",
       "    <tr>\n",
       "      <th>NAMELSAD</th>\n",
       "      <th></th>\n",
       "      <th></th>\n",
       "      <th></th>\n",
       "    </tr>\n",
       "  </thead>\n",
       "  <tbody>\n",
       "    <tr>\n",
       "      <th>Ward 4</th>\n",
       "      <td>0.215488</td>\n",
       "      <td>0.216300</td>\n",
       "      <td>0.356243</td>\n",
       "    </tr>\n",
       "    <tr>\n",
       "      <th>Ward 3</th>\n",
       "      <td>0.538178</td>\n",
       "      <td>0.224783</td>\n",
       "      <td>0.333722</td>\n",
       "    </tr>\n",
       "    <tr>\n",
       "      <th>Ward 5</th>\n",
       "      <td>0.181200</td>\n",
       "      <td>0.309262</td>\n",
       "      <td>0.390609</td>\n",
       "    </tr>\n",
       "    <tr>\n",
       "      <th>Ward 1</th>\n",
       "      <td>0.518327</td>\n",
       "      <td>0.457537</td>\n",
       "      <td>0.272552</td>\n",
       "    </tr>\n",
       "    <tr>\n",
       "      <th>Ward 2</th>\n",
       "      <td>0.690522</td>\n",
       "      <td>0.500851</td>\n",
       "      <td>0.314117</td>\n",
       "    </tr>\n",
       "    <tr>\n",
       "      <th>Ward 7</th>\n",
       "      <td>0.076770</td>\n",
       "      <td>0.383716</td>\n",
       "      <td>0.442476</td>\n",
       "    </tr>\n",
       "    <tr>\n",
       "      <th>Ward 6</th>\n",
       "      <td>0.446407</td>\n",
       "      <td>0.333737</td>\n",
       "      <td>0.275167</td>\n",
       "    </tr>\n",
       "    <tr>\n",
       "      <th>Ward 8</th>\n",
       "      <td>0.109431</td>\n",
       "      <td>0.444270</td>\n",
       "      <td>0.524039</td>\n",
       "    </tr>\n",
       "  </tbody>\n",
       "</table>\n",
       "</div>"
      ],
      "text/plain": [
       "          Pct_20+Complex  Pct_NoVehicle  Pct_Rent35%orMore\n",
       "NAMELSAD                                                  \n",
       "Ward 4          0.215488       0.216300           0.356243\n",
       "Ward 3          0.538178       0.224783           0.333722\n",
       "Ward 5          0.181200       0.309262           0.390609\n",
       "Ward 1          0.518327       0.457537           0.272552\n",
       "Ward 2          0.690522       0.500851           0.314117\n",
       "Ward 7          0.076770       0.383716           0.442476\n",
       "Ward 6          0.446407       0.333737           0.275167\n",
       "Ward 8          0.109431       0.444270           0.524039"
      ]
     },
     "execution_count": 173,
     "metadata": {},
     "output_type": "execute_result"
    }
   ],
   "source": [
    "ward_pct"
   ]
  },
  {
   "cell_type": "code",
   "execution_count": 174,
   "metadata": {},
   "outputs": [
    {
     "data": {
      "text/plain": [
       "<seaborn.axisgrid.PairGrid at 0x7f545c854520>"
      ]
     },
     "execution_count": 174,
     "metadata": {},
     "output_type": "execute_result"
    },
    {
     "data": {
      "image/png": "[encoded data removed]",
      "text/plain": [
       "<Figure size 540x540 with 12 Axes>"
      ]
     },
     "metadata": {
      "needs_background": "light"
     },
     "output_type": "display_data"
    }
   ],
   "source": [
    "sns.pairplot(ward_pct)"
   ]
  },
  {
   "cell_type": "markdown",
   "metadata": {},
   "source": [
    "Looks like percentage of housing units in a 20+ unit is a decent predictor for\n",
    "percentage of renters spending 35% or more, so we will use that for now. In order\n",
    "to best get across the point though, we may want to find the relevant summary \n",
    "ACS columns to get percentage of _renters_ w/o a car, in 20+ complex, etc, not \n",
    "just occupiers. "
   ]
  },
  {
   "cell_type": "markdown",
   "metadata": {},
   "source": [
    "### Example One - Supervised Learning"
   ]
  },
  {
   "cell_type": "markdown",
   "metadata": {},
   "source": [
    "First step - in order to evaluate our model, we need to split the dataset into a 'train' and 'test' dataset. The training set will be used to optimize the model to make accurate predictions, but since they were used to create the model itself, they aren't particularly useful for determining whether the model is actually useful for anything. In order to do that, we need to show the model new observations that it hasn't seen yet - the 'test' set. \n",
    "\n",
    "In the real world, we would not be training a model on so few observations (8 observations are insufficient to make any sort of useful prediction) - but we will do so here for ease of understanding. "
   ]
  },
  {
   "cell_type": "code",
   "execution_count": 175,
   "metadata": {},
   "outputs": [],
   "source": [
    "import sklearn\n",
    "from sklearn.model_selection import train_test_split\n",
    "\n",
    "# all this function does is choose 25% of the data at random to be test data, and 75% to be training data\n",
    "# functionally equivalent to just throwing all 8 observations in a bag and choosing 2 and 6, respectively\n",
    "ward_train, ward_test = train_test_split(ward_pct, test_size=.25, train_size=.75, random_state=2600) #600"
   ]
  },
  {
   "cell_type": "markdown",
   "metadata": {},
   "source": [
    "Training data:"
   ]
  },
  {
   "cell_type": "code",
   "execution_count": 176,
   "metadata": {},
   "outputs": [
    {
     "data": {
      "text/html": [
       "<div>\n",
       "<style scoped>\n",
       "    .dataframe tbody tr th:only-of-type {\n",
       "        vertical-align: middle;\n",
       "    }\n",
       "\n",
       "    .dataframe tbody tr th {\n",
       "        vertical-align: top;\n",
       "    }\n",
       "\n",
       "    .dataframe thead th {\n",
       "        text-align: right;\n",
       "    }\n",
       "</style>\n",
       "<table border=\"1\" class=\"dataframe\">\n",
       "  <thead>\n",
       "    <tr style=\"text-align: right;\">\n",
       "      <th></th>\n",
       "      <th>Pct_20+Complex</th>\n",
       "      <th>Pct_NoVehicle</th>\n",
       "      <th>Pct_Rent35%orMore</th>\n",
       "    </tr>\n",
       "    <tr>\n",
       "      <th>NAMELSAD</th>\n",
       "      <th></th>\n",
       "      <th></th>\n",
       "      <th></th>\n",
       "    </tr>\n",
       "  </thead>\n",
       "  <tbody>\n",
       "    <tr>\n",
       "      <th>Ward 4</th>\n",
       "      <td>0.215488</td>\n",
       "      <td>0.216300</td>\n",
       "      <td>0.356243</td>\n",
       "    </tr>\n",
       "    <tr>\n",
       "      <th>Ward 7</th>\n",
       "      <td>0.076770</td>\n",
       "      <td>0.383716</td>\n",
       "      <td>0.442476</td>\n",
       "    </tr>\n",
       "    <tr>\n",
       "      <th>Ward 8</th>\n",
       "      <td>0.109431</td>\n",
       "      <td>0.444270</td>\n",
       "      <td>0.524039</td>\n",
       "    </tr>\n",
       "    <tr>\n",
       "      <th>Ward 5</th>\n",
       "      <td>0.181200</td>\n",
       "      <td>0.309262</td>\n",
       "      <td>0.390609</td>\n",
       "    </tr>\n",
       "    <tr>\n",
       "      <th>Ward 6</th>\n",
       "      <td>0.446407</td>\n",
       "      <td>0.333737</td>\n",
       "      <td>0.275167</td>\n",
       "    </tr>\n",
       "    <tr>\n",
       "      <th>Ward 2</th>\n",
       "      <td>0.690522</td>\n",
       "      <td>0.500851</td>\n",
       "      <td>0.314117</td>\n",
       "    </tr>\n",
       "  </tbody>\n",
       "</table>\n",
       "</div>"
      ],
      "text/plain": [
       "          Pct_20+Complex  Pct_NoVehicle  Pct_Rent35%orMore\n",
       "NAMELSAD                                                  \n",
       "Ward 4          0.215488       0.216300           0.356243\n",
       "Ward 7          0.076770       0.383716           0.442476\n",
       "Ward 8          0.109431       0.444270           0.524039\n",
       "Ward 5          0.181200       0.309262           0.390609\n",
       "Ward 6          0.446407       0.333737           0.275167\n",
       "Ward 2          0.690522       0.500851           0.314117"
      ]
     },
     "execution_count": 176,
     "metadata": {},
     "output_type": "execute_result"
    }
   ],
   "source": [
    "ward_train"
   ]
  },
  {
   "cell_type": "markdown",
   "metadata": {},
   "source": [
    "Test data:"
   ]
  },
  {
   "cell_type": "code",
   "execution_count": 177,
   "metadata": {},
   "outputs": [
    {
     "data": {
      "text/html": [
       "<div>\n",
       "<style scoped>\n",
       "    .dataframe tbody tr th:only-of-type {\n",
       "        vertical-align: middle;\n",
       "    }\n",
       "\n",
       "    .dataframe tbody tr th {\n",
       "        vertical-align: top;\n",
       "    }\n",
       "\n",
       "    .dataframe thead th {\n",
       "        text-align: right;\n",
       "    }\n",
       "</style>\n",
       "<table border=\"1\" class=\"dataframe\">\n",
       "  <thead>\n",
       "    <tr style=\"text-align: right;\">\n",
       "      <th></th>\n",
       "      <th>Pct_20+Complex</th>\n",
       "      <th>Pct_NoVehicle</th>\n",
       "      <th>Pct_Rent35%orMore</th>\n",
       "    </tr>\n",
       "    <tr>\n",
       "      <th>NAMELSAD</th>\n",
       "      <th></th>\n",
       "      <th></th>\n",
       "      <th></th>\n",
       "    </tr>\n",
       "  </thead>\n",
       "  <tbody>\n",
       "    <tr>\n",
       "      <th>Ward 3</th>\n",
       "      <td>0.538178</td>\n",
       "      <td>0.224783</td>\n",
       "      <td>0.333722</td>\n",
       "    </tr>\n",
       "    <tr>\n",
       "      <th>Ward 1</th>\n",
       "      <td>0.518327</td>\n",
       "      <td>0.457537</td>\n",
       "      <td>0.272552</td>\n",
       "    </tr>\n",
       "  </tbody>\n",
       "</table>\n",
       "</div>"
      ],
      "text/plain": [
       "          Pct_20+Complex  Pct_NoVehicle  Pct_Rent35%orMore\n",
       "NAMELSAD                                                  \n",
       "Ward 3          0.538178       0.224783           0.333722\n",
       "Ward 1          0.518327       0.457537           0.272552"
      ]
     },
     "execution_count": 177,
     "metadata": {},
     "output_type": "execute_result"
    }
   ],
   "source": [
    "ward_test"
   ]
  },
  {
   "cell_type": "code",
   "execution_count": 178,
   "metadata": {},
   "outputs": [
    {
     "name": "stderr",
     "output_type": "stream",
     "text": [
      "/home/nick/miniconda3/envs/BPC/lib/python3.9/site-packages/pandas/core/indexing.py:1597: SettingWithCopyWarning: \n",
      "A value is trying to be set on a copy of a slice from a DataFrame.\n",
      "Try using .loc[row_indexer,col_indexer] = value instead\n",
      "\n",
      "See the caveats in the documentation: https://pandas.pydata.org/pandas-docs/stable/user_guide/indexing.html#returning-a-view-versus-a-copy\n",
      "  self.obj[key] = value\n",
      "/home/nick/miniconda3/envs/BPC/lib/python3.9/site-packages/pandas/core/indexing.py:1720: SettingWithCopyWarning: \n",
      "A value is trying to be set on a copy of a slice from a DataFrame.\n",
      "Try using .loc[row_indexer,col_indexer] = value instead\n",
      "\n",
      "See the caveats in the documentation: https://pandas.pydata.org/pandas-docs/stable/user_guide/indexing.html#returning-a-view-versus-a-copy\n",
      "  self._setitem_single_column(loc, value, pi)\n"
     ]
    }
   ],
   "source": [
    "#now we train the linear regressor using the training data\n",
    "from sklearn import linear_model\n",
    "lin_reg = linear_model.LinearRegression()\n",
    "\n",
    "ward_test.loc[:,'split'] = 'test'\n",
    "ward_train.loc[:,'split'] = 'train'\n",
    "ward_pct = pd.concat([ward_train, ward_test], axis = 'rows')"
   ]
  },
  {
   "cell_type": "code",
   "execution_count": 179,
   "metadata": {},
   "outputs": [
    {
     "data": {
      "image/png": "[encoded data removed]",
      "text/plain": [
       "<Figure size 432x288 with 1 Axes>"
      ]
     },
     "metadata": {
      "needs_background": "light"
     },
     "output_type": "display_data"
    }
   ],
   "source": [
    "import matplotlib.pyplot as plt\n",
    "\n",
    "lin_reg.fit(ward_train.loc[:,['Pct_20+Complex']], ward_train.loc[:,['Pct_Rent35%orMore']])\n",
    "\n",
    "sns.scatterplot(x = 'Pct_20+Complex', y = 'Pct_Rent35%orMore', hue = 'split', data = ward_pct)\n",
    "plt.plot(ward_train.loc[:,['Pct_20+Complex']], lin_reg.predict(ward_train.loc[:,['Pct_20+Complex']]), color='red')\n",
    "plt.show()\n"
   ]
  },
  {
   "cell_type": "code",
   "execution_count": 180,
   "metadata": {},
   "outputs": [
    {
     "data": {
      "image/png": "[encoded data removed]",
      "text/plain": [
       "<Figure size 432x288 with 1 Axes>"
      ]
     },
     "metadata": {
      "needs_background": "light"
     },
     "output_type": "display_data"
    }
   ],
   "source": [
    "lin_reg.fit(ward_train.loc[:,['Pct_NoVehicle']], ward_train.loc[:,['Pct_Rent35%orMore']])\n",
    "sns.scatterplot(x = 'Pct_NoVehicle', y = 'Pct_Rent35%orMore', hue = 'split', data = ward_pct)\n",
    "plt.plot(ward_train.loc[:,['Pct_NoVehicle']], lin_reg.predict(ward_train.loc[:,['Pct_NoVehicle']]), color='red')\n",
    "plt.show()"
   ]
  },
  {
   "cell_type": "markdown",
   "metadata": {},
   "source": [
    "(_todo: add residual lines and generally make pretty for publication_)"
   ]
  },
  {
   "cell_type": "markdown",
   "metadata": {},
   "source": [
    "### Example 2: Unsupervised Learning "
   ]
  },
  {
   "cell_type": "code",
   "execution_count": 186,
   "metadata": {},
   "outputs": [
    {
     "data": {
      "text/html": [
       "<div>\n",
       "<style scoped>\n",
       "    .dataframe tbody tr th:only-of-type {\n",
       "        vertical-align: middle;\n",
       "    }\n",
       "\n",
       "    .dataframe tbody tr th {\n",
       "        vertical-align: top;\n",
       "    }\n",
       "\n",
       "    .dataframe thead th {\n",
       "        text-align: right;\n",
       "    }\n",
       "</style>\n",
       "<table border=\"1\" class=\"dataframe\">\n",
       "  <thead>\n",
       "    <tr style=\"text-align: right;\">\n",
       "      <th></th>\n",
       "      <th>Pct_20+Complex</th>\n",
       "      <th>Pct_NoVehicle</th>\n",
       "      <th>Pct_Rent35%orMore</th>\n",
       "      <th>split</th>\n",
       "      <th>cluster</th>\n",
       "    </tr>\n",
       "    <tr>\n",
       "      <th>NAMELSAD</th>\n",
       "      <th></th>\n",
       "      <th></th>\n",
       "      <th></th>\n",
       "      <th></th>\n",
       "      <th></th>\n",
       "    </tr>\n",
       "  </thead>\n",
       "  <tbody>\n",
       "    <tr>\n",
       "      <th>Ward 4</th>\n",
       "      <td>0.215488</td>\n",
       "      <td>0.216300</td>\n",
       "      <td>0.356243</td>\n",
       "      <td>train</td>\n",
       "      <td>0</td>\n",
       "    </tr>\n",
       "    <tr>\n",
       "      <th>Ward 7</th>\n",
       "      <td>0.076770</td>\n",
       "      <td>0.383716</td>\n",
       "      <td>0.442476</td>\n",
       "      <td>train</td>\n",
       "      <td>1</td>\n",
       "    </tr>\n",
       "    <tr>\n",
       "      <th>Ward 8</th>\n",
       "      <td>0.109431</td>\n",
       "      <td>0.444270</td>\n",
       "      <td>0.524039</td>\n",
       "      <td>train</td>\n",
       "      <td>1</td>\n",
       "    </tr>\n",
       "    <tr>\n",
       "      <th>Ward 5</th>\n",
       "      <td>0.181200</td>\n",
       "      <td>0.309262</td>\n",
       "      <td>0.390609</td>\n",
       "      <td>train</td>\n",
       "      <td>0</td>\n",
       "    </tr>\n",
       "    <tr>\n",
       "      <th>Ward 6</th>\n",
       "      <td>0.446407</td>\n",
       "      <td>0.333737</td>\n",
       "      <td>0.275167</td>\n",
       "      <td>train</td>\n",
       "      <td>0</td>\n",
       "    </tr>\n",
       "    <tr>\n",
       "      <th>Ward 2</th>\n",
       "      <td>0.690522</td>\n",
       "      <td>0.500851</td>\n",
       "      <td>0.314117</td>\n",
       "      <td>train</td>\n",
       "      <td>1</td>\n",
       "    </tr>\n",
       "    <tr>\n",
       "      <th>Ward 3</th>\n",
       "      <td>0.538178</td>\n",
       "      <td>0.224783</td>\n",
       "      <td>0.333722</td>\n",
       "      <td>test</td>\n",
       "      <td>0</td>\n",
       "    </tr>\n",
       "    <tr>\n",
       "      <th>Ward 1</th>\n",
       "      <td>0.518327</td>\n",
       "      <td>0.457537</td>\n",
       "      <td>0.272552</td>\n",
       "      <td>test</td>\n",
       "      <td>1</td>\n",
       "    </tr>\n",
       "  </tbody>\n",
       "</table>\n",
       "</div>"
      ],
      "text/plain": [
       "          Pct_20+Complex  Pct_NoVehicle  Pct_Rent35%orMore  split  cluster\n",
       "NAMELSAD                                                                  \n",
       "Ward 4          0.215488       0.216300           0.356243  train        0\n",
       "Ward 7          0.076770       0.383716           0.442476  train        1\n",
       "Ward 8          0.109431       0.444270           0.524039  train        1\n",
       "Ward 5          0.181200       0.309262           0.390609  train        0\n",
       "Ward 6          0.446407       0.333737           0.275167  train        0\n",
       "Ward 2          0.690522       0.500851           0.314117  train        1\n",
       "Ward 3          0.538178       0.224783           0.333722   test        0\n",
       "Ward 1          0.518327       0.457537           0.272552   test        1"
      ]
     },
     "execution_count": 186,
     "metadata": {},
     "output_type": "execute_result"
    }
   ],
   "source": [
    "from sklearn import cluster\n",
    "k_mean = cluster.KMeans(n_clusters = 2)\n",
    "ward_pct.loc[:,'cluster'] = k_mean.fit_predict(ward_pct.loc[:,['Pct_NoVehicle','Pct_Rent35%orMore']])\n",
    "ward_pct"
   ]
  },
  {
   "cell_type": "code",
   "execution_count": 187,
   "metadata": {},
   "outputs": [
    {
     "data": {
      "text/plain": [
       "<AxesSubplot:xlabel='Pct_20+Complex', ylabel='Pct_NoVehicle'>"
      ]
     },
     "execution_count": 187,
     "metadata": {},
     "output_type": "execute_result"
    },
    {
     "data": {
      "image/png": "[encoded data removed]",
      "text/plain": [
       "<Figure size 432x288 with 1 Axes>"
      ]
     },
     "metadata": {
      "needs_background": "light"
     },
     "output_type": "display_data"
    }
   ],
   "source": [
    "sns.scatterplot(x = 'Pct_20+Complex', y = 'Pct_NoVehicle', hue = 'cluster', data = ward_pct)"
   ]
  }
 ],
 "metadata": {
  "interpreter": {
   "hash": "3d77214af5a5f17d5ec5607d0aa0f53d223274319ad1b1ada13a183a31844df4"
  },
  "kernelspec": {
   "display_name": "Python 3.9.4 64-bit ('BPC': conda)",
   "name": "python3"
  },
  "language_info": {
   "codemirror_mode": {
    "name": "ipython",
    "version": 3
   },
   "file_extension": ".py",
   "mimetype": "text/x-python",
   "name": "python",
   "nbconvert_exporter": "python",
   "pygments_lexer": "ipython3",
   "version": "3.9.4"
  },
  "orig_nbformat": 4
 },
 "nbformat": 4,
 "nbformat_minor": 2
}